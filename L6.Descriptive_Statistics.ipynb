{
 "cells": [
  {
   "cell_type": "markdown",
   "metadata": {},
   "source": [
    "### Playing with sampling and exploring the central limit theorem\n",
    "\n",
    "Begin by importing some stuff we will need.\n"
   ]
  },
  {
   "cell_type": "code",
   "execution_count": 2,
   "metadata": {
    "collapsed": false
   },
   "outputs": [],
   "source": [
    "import pandas as pd\n",
    "import numpy as np\n",
    "import matplotlib.pyplot as plt\n",
    "%matplotlib inline"
   ]
  },
  {
   "cell_type": "markdown",
   "metadata": {},
   "source": [
    "Let's start by creating a population of data that is not normal.  In fact it is a concatenation of several normal distributions.  If you aren't sure what this is doing, take a minute or two to look up the functions we use in the cell below."
   ]
  },
  {
   "cell_type": "code",
   "execution_count": 26,
   "metadata": {
    "collapsed": false
   },
   "outputs": [
    {
     "data": {
      "text/html": [
       "<div>\n",
       "<table border=\"1\" class=\"dataframe\">\n",
       "  <thead>\n",
       "    <tr style=\"text-align: right;\">\n",
       "      <th></th>\n",
       "      <th>population</th>\n",
       "    </tr>\n",
       "  </thead>\n",
       "  <tbody>\n",
       "    <tr>\n",
       "      <th>0</th>\n",
       "      <td>-6.659080</td>\n",
       "    </tr>\n",
       "    <tr>\n",
       "      <th>1</th>\n",
       "      <td>-4.002775</td>\n",
       "    </tr>\n",
       "    <tr>\n",
       "      <th>2</th>\n",
       "      <td>-5.810919</td>\n",
       "    </tr>\n",
       "    <tr>\n",
       "      <th>3</th>\n",
       "      <td>-7.685714</td>\n",
       "    </tr>\n",
       "    <tr>\n",
       "      <th>4</th>\n",
       "      <td>-5.763748</td>\n",
       "    </tr>\n",
       "  </tbody>\n",
       "</table>\n",
       "</div>"
      ],
      "text/plain": [
       "   population\n",
       "0   -6.659080\n",
       "1   -4.002775\n",
       "2   -5.810919\n",
       "3   -7.685714\n",
       "4   -5.763748"
      ]
     },
     "execution_count": 26,
     "metadata": {},
     "output_type": "execute_result"
    }
   ],
   "source": [
    "d1 = np.random.normal(loc=-6.4, scale=1.2, size=40000)\n",
    "d2 = np.random.normal(loc=4, scale=10, size=16000)\n",
    "d3 = np.random.normal(loc=22, scale=8, size=72000)\n",
    "population = np.concatenate([d1, d2, d3])\n",
    "pop = pd.DataFrame(data=population, columns=['population'])\n",
    "pop.head()"
   ]
  },
  {
   "cell_type": "markdown",
   "metadata": {},
   "source": [
    "### Make a histogram of the population.  Play around with the bin size. \n",
    "\n",
    "Hint, e.g. ``pop['population'].hist()``"
   ]
  },
  {
   "cell_type": "code",
   "execution_count": null,
   "metadata": {
    "collapsed": false
   },
   "outputs": [],
   "source": []
  },
  {
   "cell_type": "markdown",
   "metadata": {},
   "source": [
    "### Make a Kernel Density Estimate of the population distribution.  Hint see ``pandas.DataFrame.plot.kde``."
   ]
  },
  {
   "cell_type": "code",
   "execution_count": null,
   "metadata": {
    "collapsed": true
   },
   "outputs": [],
   "source": []
  },
  {
   "cell_type": "markdown",
   "metadata": {},
   "source": [
    "### Compute the mean of the population\n"
   ]
  },
  {
   "cell_type": "code",
   "execution_count": 29,
   "metadata": {
    "collapsed": false
   },
   "outputs": [],
   "source": []
  },
  {
   "cell_type": "markdown",
   "metadata": {},
   "source": [
    "### Compute the s.d. of the population\n",
    "\n",
    "Hint: std"
   ]
  },
  {
   "cell_type": "code",
   "execution_count": null,
   "metadata": {
    "collapsed": true
   },
   "outputs": [],
   "source": []
  },
  {
   "cell_type": "markdown",
   "metadata": {},
   "source": [
    "### OK, that is our population.  Now we want to draw a sample of size ``n`` from the population and look at the distribution of our sample mean and s.d.\n",
    "\n",
    "Start by defining a function that samples the ``pop`` dataframe with an argument ``n`` that is the number of samples to take.  Sample without replacement.  Hint, remember we did this before in our visualization notebook."
   ]
  },
  {
   "cell_type": "code",
   "execution_count": null,
   "metadata": {
    "collapsed": true
   },
   "outputs": [],
   "source": []
  },
  {
   "cell_type": "markdown",
   "metadata": {},
   "source": [
    "### Now we want to draw repeated samples of size _n_ from our population.\n",
    "\n",
    "Create another function that calls the first ``samples`` times.  Have ``samples`` be an argument to the function along with ``n`` which is the argument to the first function.   For each sample, append the mean and s.d. of the sample to two separate lists and returns them.\n",
    "\n",
    "Hint, use a ``for`` loop with ``range(samples)`` iterations.  To create an empty list at the start of the function, try something like:\n",
    "```\n",
    "def repeat_samples(samples, n):\n",
    "    means = []\n",
    "    sds = []\n",
    "    ...\n",
    "    return (means, sds)\n",
    "```\n",
    "then use the ``append`` method to append each mean and s.d. value to the end of the repesctive list."
   ]
  },
  {
   "cell_type": "code",
   "execution_count": null,
   "metadata": {
    "collapsed": true
   },
   "outputs": [],
   "source": []
  },
  {
   "cell_type": "markdown",
   "metadata": {},
   "source": [
    "### Almost there! \n",
    "\n",
    "Now, make a function  with two arguments ``samples`` and ``n`` that calls the last function we madethat takes the return values from our last function:\n",
    "* converts the lists to a single data frame\n",
    "* plots two histograms of the columns (mean, sd)\n",
    "* prints out the mean and sd of the columns\n",
    "\n",
    "Hint: to get a multivalued return into new variables, try this (assuming your last function was called ``repeat_samples`` and you returned values as in the Hint above):\n",
    "```\n",
    "    means, sds = repeat_samples(samples, n)\n",
    "    df = pd.DataFrame(data={'means' : means, 'sds' : sds})\n",
    "```"
   ]
  },
  {
   "cell_type": "code",
   "execution_count": null,
   "metadata": {
    "collapsed": true
   },
   "outputs": [],
   "source": []
  },
  {
   "cell_type": "markdown",
   "metadata": {},
   "source": [
    "### Run your final function several times with varying values of ``samples`` and ``n``\n",
    "\n",
    "How did your result begin to converge on the population mean and s.d.?"
   ]
  },
  {
   "cell_type": "markdown",
   "metadata": {},
   "source": []
  }
 ],
 "metadata": {
  "kernelspec": {
   "display_name": "Python 3",
   "language": "python",
   "name": "python3"
  },
  "language_info": {
   "codemirror_mode": {
    "name": "ipython",
    "version": 3
   },
   "file_extension": ".py",
   "mimetype": "text/x-python",
   "name": "python",
   "nbconvert_exporter": "python",
   "pygments_lexer": "ipython3",
   "version": "3.5.3"
  }
 },
 "nbformat": 4,
 "nbformat_minor": 0
}
